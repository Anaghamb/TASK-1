{
 "cells": [
  {
   "cell_type": "markdown",
   "id": "b6c13089",
   "metadata": {},
   "source": [
    "# TASK 1- TITANIC SURVIVAK PREDICTION\n",
    "\n",
    "\n",
    "##### ANAGHA M BASHEER"
   ]
  },
  {
   "cell_type": "markdown",
   "id": "51a664f3",
   "metadata": {},
   "source": [
    "###  DATA DESCRIPTION"
   ]
  },
  {
   "cell_type": "markdown",
   "id": "6eb64ce2",
   "metadata": {},
   "source": [
    "The dataset typically used for this project contains information\n",
    "about individual passengers, such as their age, gender, ticket, class, fare, cabin, and whether or not they survived. The variables available are:\n",
    "- survived - Survival (0 = No; 1 = Yes)\n",
    "- class - Passenger Class (1 = 1st; 2 = 2nd; 3 = 3rd)\n",
    "- name - Name\n",
    "- sex - Sex\n",
    "- age - Age\n",
    "- sibsp - Number of Siblings/Spouses Aboard\n",
    "- parch - Number of Parents/Children Aboard\n",
    "- fare - Passenger Fare\n",
    "- cabin - Cabin\n",
    "- embarked - Port of Embarkation (C = Cherbourg; Q = Queenstown; S = Southampton)\n",
    "\n",
    "Here the target variable is Surived"
   ]
  },
  {
   "cell_type": "markdown",
   "id": "af9d8d1a",
   "metadata": {},
   "source": [
    "### IMPORTING THE PACKAGES"
   ]
  },
  {
   "cell_type": "code",
   "execution_count": 1,
   "id": "9fb2898d",
   "metadata": {},
   "outputs": [],
   "source": [
    "import pandas as pd\n",
    "import numpy as np\n",
    "import seaborn as sns\n",
    "from numpy import std\n",
    "import matplotlib.pyplot as plt"
   ]
  },
  {
   "cell_type": "markdown",
   "id": "0f0e0999",
   "metadata": {},
   "source": [
    "### IMPORTING THE DATASET "
   ]
  },
  {
   "cell_type": "code",
   "execution_count": 2,
   "id": "728ebb94",
   "metadata": {},
   "outputs": [],
   "source": [
    "df2=pd.read_csv(r\"C:\\Users\\anagh\\Downloads\\tested.csv\")"
   ]
  },
  {
   "cell_type": "markdown",
   "id": "e71e3562",
   "metadata": {},
   "source": [
    "### EXPLORATORY DATA ANALYSIS "
   ]
  },
  {
   "cell_type": "code",
   "execution_count": 3,
   "id": "7675bf75",
   "metadata": {},
   "outputs": [
    {
     "name": "stdout",
     "output_type": "stream",
     "text": [
      "Table 1\n"
     ]
    },
    {
     "data": {
      "text/html": [
       "<div>\n",
       "<style scoped>\n",
       "    .dataframe tbody tr th:only-of-type {\n",
       "        vertical-align: middle;\n",
       "    }\n",
       "\n",
       "    .dataframe tbody tr th {\n",
       "        vertical-align: top;\n",
       "    }\n",
       "\n",
       "    .dataframe thead th {\n",
       "        text-align: right;\n",
       "    }\n",
       "</style>\n",
       "<table border=\"1\" class=\"dataframe\">\n",
       "  <thead>\n",
       "    <tr style=\"text-align: right;\">\n",
       "      <th></th>\n",
       "      <th>PassengerId</th>\n",
       "      <th>Survived</th>\n",
       "      <th>Pclass</th>\n",
       "      <th>Name</th>\n",
       "      <th>Sex</th>\n",
       "      <th>Age</th>\n",
       "      <th>SibSp</th>\n",
       "      <th>Parch</th>\n",
       "      <th>Ticket</th>\n",
       "      <th>Fare</th>\n",
       "      <th>Cabin</th>\n",
       "      <th>Embarked</th>\n",
       "    </tr>\n",
       "  </thead>\n",
       "  <tbody>\n",
       "    <tr>\n",
       "      <th>0</th>\n",
       "      <td>892</td>\n",
       "      <td>0</td>\n",
       "      <td>3</td>\n",
       "      <td>Kelly, Mr. James</td>\n",
       "      <td>male</td>\n",
       "      <td>34.5</td>\n",
       "      <td>0</td>\n",
       "      <td>0</td>\n",
       "      <td>330911</td>\n",
       "      <td>7.8292</td>\n",
       "      <td>NaN</td>\n",
       "      <td>Q</td>\n",
       "    </tr>\n",
       "    <tr>\n",
       "      <th>1</th>\n",
       "      <td>893</td>\n",
       "      <td>1</td>\n",
       "      <td>3</td>\n",
       "      <td>Wilkes, Mrs. James (Ellen Needs)</td>\n",
       "      <td>female</td>\n",
       "      <td>47.0</td>\n",
       "      <td>1</td>\n",
       "      <td>0</td>\n",
       "      <td>363272</td>\n",
       "      <td>7.0000</td>\n",
       "      <td>NaN</td>\n",
       "      <td>S</td>\n",
       "    </tr>\n",
       "    <tr>\n",
       "      <th>2</th>\n",
       "      <td>894</td>\n",
       "      <td>0</td>\n",
       "      <td>2</td>\n",
       "      <td>Myles, Mr. Thomas Francis</td>\n",
       "      <td>male</td>\n",
       "      <td>62.0</td>\n",
       "      <td>0</td>\n",
       "      <td>0</td>\n",
       "      <td>240276</td>\n",
       "      <td>9.6875</td>\n",
       "      <td>NaN</td>\n",
       "      <td>Q</td>\n",
       "    </tr>\n",
       "    <tr>\n",
       "      <th>3</th>\n",
       "      <td>895</td>\n",
       "      <td>0</td>\n",
       "      <td>3</td>\n",
       "      <td>Wirz, Mr. Albert</td>\n",
       "      <td>male</td>\n",
       "      <td>27.0</td>\n",
       "      <td>0</td>\n",
       "      <td>0</td>\n",
       "      <td>315154</td>\n",
       "      <td>8.6625</td>\n",
       "      <td>NaN</td>\n",
       "      <td>S</td>\n",
       "    </tr>\n",
       "    <tr>\n",
       "      <th>4</th>\n",
       "      <td>896</td>\n",
       "      <td>1</td>\n",
       "      <td>3</td>\n",
       "      <td>Hirvonen, Mrs. Alexander (Helga E Lindqvist)</td>\n",
       "      <td>female</td>\n",
       "      <td>22.0</td>\n",
       "      <td>1</td>\n",
       "      <td>1</td>\n",
       "      <td>3101298</td>\n",
       "      <td>12.2875</td>\n",
       "      <td>NaN</td>\n",
       "      <td>S</td>\n",
       "    </tr>\n",
       "  </tbody>\n",
       "</table>\n",
       "</div>"
      ],
      "text/plain": [
       "   PassengerId  Survived  Pclass  \\\n",
       "0          892         0       3   \n",
       "1          893         1       3   \n",
       "2          894         0       2   \n",
       "3          895         0       3   \n",
       "4          896         1       3   \n",
       "\n",
       "                                           Name     Sex   Age  SibSp  Parch  \\\n",
       "0                              Kelly, Mr. James    male  34.5      0      0   \n",
       "1              Wilkes, Mrs. James (Ellen Needs)  female  47.0      1      0   \n",
       "2                     Myles, Mr. Thomas Francis    male  62.0      0      0   \n",
       "3                              Wirz, Mr. Albert    male  27.0      0      0   \n",
       "4  Hirvonen, Mrs. Alexander (Helga E Lindqvist)  female  22.0      1      1   \n",
       "\n",
       "    Ticket     Fare Cabin Embarked  \n",
       "0   330911   7.8292   NaN        Q  \n",
       "1   363272   7.0000   NaN        S  \n",
       "2   240276   9.6875   NaN        Q  \n",
       "3   315154   8.6625   NaN        S  \n",
       "4  3101298  12.2875   NaN        S  "
      ]
     },
     "execution_count": 3,
     "metadata": {},
     "output_type": "execute_result"
    }
   ],
   "source": [
    "print('Table 1')\n",
    "df2.head() #to print the firts 5 rows of the dataset"
   ]
  },
  {
   "cell_type": "code",
   "execution_count": 4,
   "id": "451ed5cb",
   "metadata": {},
   "outputs": [
    {
     "data": {
      "text/plain": [
       "(418, 12)"
      ]
     },
     "execution_count": 4,
     "metadata": {},
     "output_type": "execute_result"
    }
   ],
   "source": [
    "df2.shape #to know the dimension of the dataset"
   ]
  },
  {
   "cell_type": "markdown",
   "id": "fb9708a6",
   "metadata": {},
   "source": [
    "There are 418 observations on each of the 12 columns."
   ]
  },
  {
   "cell_type": "code",
   "execution_count": 5,
   "id": "f5f63b80",
   "metadata": {},
   "outputs": [
    {
     "name": "stdout",
     "output_type": "stream",
     "text": [
      "Table 2\n",
      "<class 'pandas.core.frame.DataFrame'>\n",
      "RangeIndex: 418 entries, 0 to 417\n",
      "Data columns (total 12 columns):\n",
      " #   Column       Non-Null Count  Dtype  \n",
      "---  ------       --------------  -----  \n",
      " 0   PassengerId  418 non-null    int64  \n",
      " 1   Survived     418 non-null    int64  \n",
      " 2   Pclass       418 non-null    int64  \n",
      " 3   Name         418 non-null    object \n",
      " 4   Sex          418 non-null    object \n",
      " 5   Age          332 non-null    float64\n",
      " 6   SibSp        418 non-null    int64  \n",
      " 7   Parch        418 non-null    int64  \n",
      " 8   Ticket       418 non-null    object \n",
      " 9   Fare         417 non-null    float64\n",
      " 10  Cabin        91 non-null     object \n",
      " 11  Embarked     418 non-null    object \n",
      "dtypes: float64(2), int64(5), object(5)\n",
      "memory usage: 39.3+ KB\n"
     ]
    }
   ],
   "source": [
    "print('Table 2')\n",
    "df2.info() #information table"
   ]
  },
  {
   "cell_type": "markdown",
   "id": "47ba234d",
   "metadata": {},
   "source": [
    "From the information table we can observe that some of the variables are objects which we need to convert it into integers."
   ]
  },
  {
   "cell_type": "code",
   "execution_count": 6,
   "id": "0757f59a",
   "metadata": {},
   "outputs": [
    {
     "name": "stdout",
     "output_type": "stream",
     "text": [
      "Table 3\n"
     ]
    },
    {
     "data": {
      "text/plain": [
       "PassengerId      0\n",
       "Survived         0\n",
       "Pclass           0\n",
       "Name             0\n",
       "Sex              0\n",
       "Age             86\n",
       "SibSp            0\n",
       "Parch            0\n",
       "Ticket           0\n",
       "Fare             1\n",
       "Cabin          327\n",
       "Embarked         0\n",
       "dtype: int64"
      ]
     },
     "execution_count": 6,
     "metadata": {},
     "output_type": "execute_result"
    }
   ],
   "source": [
    "#to check the presence of null values\n",
    "print('Table 3')\n",
    "df2.isnull().sum()"
   ]
  },
  {
   "cell_type": "markdown",
   "id": "bac0f6ff",
   "metadata": {},
   "source": [
    "From here we can observe that the variables Age, Fare and Cabin have null values which we need to replace. Here Cabin is a variale we need to drop."
   ]
  },
  {
   "cell_type": "code",
   "execution_count": 7,
   "id": "dbe0d065",
   "metadata": {},
   "outputs": [],
   "source": [
    "#Replaving the null values by their corresponding mean values\n",
    "df2['Age'] = df2['Age'].fillna(df2['Age'].mean())\n",
    "df2['Fare'] = df2['Fare'].fillna(df2['Fare'].mean())"
   ]
  },
  {
   "cell_type": "code",
   "execution_count": 8,
   "id": "e15c8e13",
   "metadata": {},
   "outputs": [],
   "source": [
    "#Dropping the unwanted variables\n",
    "data = df2.drop(['PassengerId','Name','Cabin','Ticket'], axis =1, inplace=True)"
   ]
  },
  {
   "cell_type": "code",
   "execution_count": 9,
   "id": "7cf0b33e",
   "metadata": {},
   "outputs": [
    {
     "data": {
      "text/html": [
       "<div>\n",
       "<style scoped>\n",
       "    .dataframe tbody tr th:only-of-type {\n",
       "        vertical-align: middle;\n",
       "    }\n",
       "\n",
       "    .dataframe tbody tr th {\n",
       "        vertical-align: top;\n",
       "    }\n",
       "\n",
       "    .dataframe thead th {\n",
       "        text-align: right;\n",
       "    }\n",
       "</style>\n",
       "<table border=\"1\" class=\"dataframe\">\n",
       "  <thead>\n",
       "    <tr style=\"text-align: right;\">\n",
       "      <th></th>\n",
       "      <th>Survived</th>\n",
       "      <th>Pclass</th>\n",
       "      <th>Sex</th>\n",
       "      <th>Age</th>\n",
       "      <th>SibSp</th>\n",
       "      <th>Parch</th>\n",
       "      <th>Fare</th>\n",
       "      <th>Embarked</th>\n",
       "    </tr>\n",
       "  </thead>\n",
       "  <tbody>\n",
       "    <tr>\n",
       "      <th>0</th>\n",
       "      <td>0</td>\n",
       "      <td>3</td>\n",
       "      <td>male</td>\n",
       "      <td>34.5</td>\n",
       "      <td>0</td>\n",
       "      <td>0</td>\n",
       "      <td>7.8292</td>\n",
       "      <td>Q</td>\n",
       "    </tr>\n",
       "    <tr>\n",
       "      <th>1</th>\n",
       "      <td>1</td>\n",
       "      <td>3</td>\n",
       "      <td>female</td>\n",
       "      <td>47.0</td>\n",
       "      <td>1</td>\n",
       "      <td>0</td>\n",
       "      <td>7.0000</td>\n",
       "      <td>S</td>\n",
       "    </tr>\n",
       "    <tr>\n",
       "      <th>2</th>\n",
       "      <td>0</td>\n",
       "      <td>2</td>\n",
       "      <td>male</td>\n",
       "      <td>62.0</td>\n",
       "      <td>0</td>\n",
       "      <td>0</td>\n",
       "      <td>9.6875</td>\n",
       "      <td>Q</td>\n",
       "    </tr>\n",
       "    <tr>\n",
       "      <th>3</th>\n",
       "      <td>0</td>\n",
       "      <td>3</td>\n",
       "      <td>male</td>\n",
       "      <td>27.0</td>\n",
       "      <td>0</td>\n",
       "      <td>0</td>\n",
       "      <td>8.6625</td>\n",
       "      <td>S</td>\n",
       "    </tr>\n",
       "    <tr>\n",
       "      <th>4</th>\n",
       "      <td>1</td>\n",
       "      <td>3</td>\n",
       "      <td>female</td>\n",
       "      <td>22.0</td>\n",
       "      <td>1</td>\n",
       "      <td>1</td>\n",
       "      <td>12.2875</td>\n",
       "      <td>S</td>\n",
       "    </tr>\n",
       "  </tbody>\n",
       "</table>\n",
       "</div>"
      ],
      "text/plain": [
       "   Survived  Pclass     Sex   Age  SibSp  Parch     Fare Embarked\n",
       "0         0       3    male  34.5      0      0   7.8292        Q\n",
       "1         1       3  female  47.0      1      0   7.0000        S\n",
       "2         0       2    male  62.0      0      0   9.6875        Q\n",
       "3         0       3    male  27.0      0      0   8.6625        S\n",
       "4         1       3  female  22.0      1      1  12.2875        S"
      ]
     },
     "execution_count": 9,
     "metadata": {},
     "output_type": "execute_result"
    }
   ],
   "source": [
    "#now we can check the head of the dataframe after droppimg the unwanted variables and replacing the null values\n",
    "df2.head()"
   ]
  },
  {
   "cell_type": "markdown",
   "id": "42b6d298",
   "metadata": {},
   "source": [
    "The  variables Sex and Embarked are objects,they should be converted into integers."
   ]
  },
  {
   "cell_type": "code",
   "execution_count": 10,
   "id": "b637ce12",
   "metadata": {},
   "outputs": [
    {
     "data": {
      "text/plain": [
       "array([1, 0])"
      ]
     },
     "execution_count": 10,
     "metadata": {},
     "output_type": "execute_result"
    }
   ],
   "source": [
    "#Label encoding \n",
    "from sklearn import preprocessing \n",
    "# label_encoder object knows how to understand word labels.\n",
    "label_encoder = preprocessing.LabelEncoder()\n",
    "  \n",
    "# Encode labels in column 'sex'.\n",
    "df2['Sex']= label_encoder.fit_transform(df2['Sex'])\n",
    "  \n",
    "df2['Sex'].unique()"
   ]
  },
  {
   "cell_type": "code",
   "execution_count": 11,
   "id": "72a6aea2",
   "metadata": {},
   "outputs": [
    {
     "data": {
      "text/plain": [
       "array([1, 2, 0])"
      ]
     },
     "execution_count": 11,
     "metadata": {},
     "output_type": "execute_result"
    }
   ],
   "source": [
    "df2['Embarked']= label_encoder.fit_transform(df2['Embarked'])\n",
    "  df2['Embarked'].unique()"
   ]
  },
  {
   "cell_type": "code",
   "execution_count": 12,
   "id": "a4b28951",
   "metadata": {},
   "outputs": [
    {
     "data": {
      "text/html": [
       "<div>\n",
       "<style scoped>\n",
       "    .dataframe tbody tr th:only-of-type {\n",
       "        vertical-align: middle;\n",
       "    }\n",
       "\n",
       "    .dataframe tbody tr th {\n",
       "        vertical-align: top;\n",
       "    }\n",
       "\n",
       "    .dataframe thead th {\n",
       "        text-align: right;\n",
       "    }\n",
       "</style>\n",
       "<table border=\"1\" class=\"dataframe\">\n",
       "  <thead>\n",
       "    <tr style=\"text-align: right;\">\n",
       "      <th></th>\n",
       "      <th>Survived</th>\n",
       "      <th>Pclass</th>\n",
       "      <th>Sex</th>\n",
       "      <th>Age</th>\n",
       "      <th>SibSp</th>\n",
       "      <th>Parch</th>\n",
       "      <th>Fare</th>\n",
       "      <th>Embarked</th>\n",
       "    </tr>\n",
       "  </thead>\n",
       "  <tbody>\n",
       "    <tr>\n",
       "      <th>0</th>\n",
       "      <td>0</td>\n",
       "      <td>3</td>\n",
       "      <td>1</td>\n",
       "      <td>34.5</td>\n",
       "      <td>0</td>\n",
       "      <td>0</td>\n",
       "      <td>7.8292</td>\n",
       "      <td>1</td>\n",
       "    </tr>\n",
       "    <tr>\n",
       "      <th>1</th>\n",
       "      <td>1</td>\n",
       "      <td>3</td>\n",
       "      <td>0</td>\n",
       "      <td>47.0</td>\n",
       "      <td>1</td>\n",
       "      <td>0</td>\n",
       "      <td>7.0000</td>\n",
       "      <td>2</td>\n",
       "    </tr>\n",
       "    <tr>\n",
       "      <th>2</th>\n",
       "      <td>0</td>\n",
       "      <td>2</td>\n",
       "      <td>1</td>\n",
       "      <td>62.0</td>\n",
       "      <td>0</td>\n",
       "      <td>0</td>\n",
       "      <td>9.6875</td>\n",
       "      <td>1</td>\n",
       "    </tr>\n",
       "    <tr>\n",
       "      <th>3</th>\n",
       "      <td>0</td>\n",
       "      <td>3</td>\n",
       "      <td>1</td>\n",
       "      <td>27.0</td>\n",
       "      <td>0</td>\n",
       "      <td>0</td>\n",
       "      <td>8.6625</td>\n",
       "      <td>2</td>\n",
       "    </tr>\n",
       "    <tr>\n",
       "      <th>4</th>\n",
       "      <td>1</td>\n",
       "      <td>3</td>\n",
       "      <td>0</td>\n",
       "      <td>22.0</td>\n",
       "      <td>1</td>\n",
       "      <td>1</td>\n",
       "      <td>12.2875</td>\n",
       "      <td>2</td>\n",
       "    </tr>\n",
       "  </tbody>\n",
       "</table>\n",
       "</div>"
      ],
      "text/plain": [
       "   Survived  Pclass  Sex   Age  SibSp  Parch     Fare  Embarked\n",
       "0         0       3    1  34.5      0      0   7.8292         1\n",
       "1         1       3    0  47.0      1      0   7.0000         2\n",
       "2         0       2    1  62.0      0      0   9.6875         1\n",
       "3         0       3    1  27.0      0      0   8.6625         2\n",
       "4         1       3    0  22.0      1      1  12.2875         2"
      ]
     },
     "execution_count": 12,
     "metadata": {},
     "output_type": "execute_result"
    }
   ],
   "source": [
    "df2.head()"
   ]
  },
  {
   "cell_type": "markdown",
   "id": "194b8d2a",
   "metadata": {},
   "source": [
    "Now we can observe that all the variables are in numerical."
   ]
  },
  {
   "cell_type": "markdown",
   "id": "83230da7",
   "metadata": {},
   "source": [
    "### STUDYING THE TARGET VARIABLE"
   ]
  },
  {
   "cell_type": "code",
   "execution_count": 13,
   "id": "0d77511b",
   "metadata": {},
   "outputs": [
    {
     "data": {
      "text/plain": [
       "array([0, 1], dtype=int64)"
      ]
     },
     "execution_count": 13,
     "metadata": {},
     "output_type": "execute_result"
    }
   ],
   "source": [
    "df2['Survived'].unique()"
   ]
  },
  {
   "cell_type": "markdown",
   "id": "ced8e888",
   "metadata": {},
   "source": [
    "There are two unique values for the target variable Survived, 0( Not survived) and 1(Survived)."
   ]
  },
  {
   "cell_type": "code",
   "execution_count": 14,
   "id": "5889e937",
   "metadata": {},
   "outputs": [
    {
     "data": {
      "text/plain": [
       "0    266\n",
       "1    152\n",
       "Name: Survived, dtype: int64"
      ]
     },
     "execution_count": 14,
     "metadata": {},
     "output_type": "execute_result"
    }
   ],
   "source": [
    "df2['Survived'].value_counts()"
   ]
  },
  {
   "cell_type": "markdown",
   "id": "921d8036",
   "metadata": {},
   "source": [
    "152 passengers survived while 266 passengers not survived."
   ]
  },
  {
   "cell_type": "code",
   "execution_count": 15,
   "id": "1bd9db55",
   "metadata": {},
   "outputs": [
    {
     "data": {
      "image/png": "[encoded data removed]",
      "text/plain": [
       "<Figure size 432x288 with 1 Axes>"
      ]
     },
     "metadata": {
      "needs_background": "light"
     },
     "output_type": "display_data"
    }
   ],
   "source": [
    "#Plotting the target variable\n",
    "sns.countplot(x='Survived',data=df2)\n",
    "plt.show()"
   ]
  },
  {
   "cell_type": "code",
   "execution_count": 16,
   "id": "71b37c30",
   "metadata": {},
   "outputs": [
    {
     "name": "stdout",
     "output_type": "stream",
     "text": [
      "percentage of passengers not survived: 63.63636363636363\n",
      "percentage of passengers survived: 36.36363636363637\n"
     ]
    }
   ],
   "source": [
    "count_0 = len(df2[df2['Survived']==0])\n",
    "count_1 = len(df2[df2['Survived']==1])\n",
    "pct_of_0 = count_0/(count_0+count_1)\n",
    "print(\"percentage of passengers not survived:\", pct_of_0*100)\n",
    "pct_of_1 = count_1/(count_0+count_1)\n",
    "print(\"percentage of passengers survived:\", pct_of_1*100)"
   ]
  },
  {
   "cell_type": "markdown",
   "id": "bbff69dc",
   "metadata": {},
   "source": [
    "63% of passengers not survived while 34% of passengers survived."
   ]
  },
  {
   "cell_type": "markdown",
   "id": "689d2811",
   "metadata": {},
   "source": [
    "### RELATIONSHIP BETWEEN SURVIVAL AND FEATURES"
   ]
  },
  {
   "cell_type": "code",
   "execution_count": 17,
   "id": "51043341",
   "metadata": {},
   "outputs": [
    {
     "data": {
      "text/plain": [
       "Text(0, 0.5, 'Survived')"
      ]
     },
     "execution_count": 17,
     "metadata": {},
     "output_type": "execute_result"
    },
    {
     "data": {
      "image/png": "[encoded data removed]",
      "text/plain": [
       "<Figure size 432x288 with 1 Axes>"
      ]
     },
     "metadata": {
      "needs_background": "light"
     },
     "output_type": "display_data"
    }
   ],
   "source": [
    "#Plot between the class travelled by the passengers and survival\n",
    "pd.crosstab(df2.Pclass,df2.Survived).plot(kind='bar')\n",
    "plt.title('Class travelled by passengers and survival')\n",
    "plt.xlabel('class')\n",
    "plt.ylabel('Survived')"
   ]
  },
  {
   "cell_type": "markdown",
   "id": "ef19767d",
   "metadata": {},
   "source": [
    "From the above plot we can observe that the most passengers who were not survived are from the 3rd class. While the proportion of passengers not survived are less in first class and second class as compared to third class."
   ]
  },
  {
   "cell_type": "code",
   "execution_count": 18,
   "id": "c6f3cb95",
   "metadata": {},
   "outputs": [
    {
     "data": {
      "text/plain": [
       "Text(0, 0.5, 'Survivers')"
      ]
     },
     "execution_count": 18,
     "metadata": {},
     "output_type": "execute_result"
    },
    {
     "data": {
      "image/png": "[encoded data removed]",
      "text/plain": [
       "<Figure size 432x288 with 1 Axes>"
      ]
     },
     "metadata": {
      "needs_background": "light"
     },
     "output_type": "display_data"
    }
   ],
   "source": [
    "#Plot between the port enbarked by the passengers and survival\n",
    "table=pd.crosstab(df2.Embarked,df2.Survived)\n",
    "table.div(table.sum(1).astype(float), axis=0).plot(kind='bar', stacked=True)\n",
    "plt.title('Plot between Port Embarked and Survivers')\n",
    "plt.xlabel('Port Embarked')\n",
    "plt.ylabel('Survivers')"
   ]
  },
  {
   "cell_type": "markdown",
   "id": "0a244632",
   "metadata": {},
   "source": [
    "From the above plot we can observe that the most passengers who were not survived are from the passengers embarked from the 2nd port which is Southampton.While the more passengers boarded from the 1st port which is QueensTown."
   ]
  },
  {
   "cell_type": "code",
   "execution_count": 19,
   "id": "acd869d3",
   "metadata": {},
   "outputs": [
    {
     "data": {
      "text/plain": [
       "Text(0, 0.5, 'Survived')"
      ]
     },
     "execution_count": 19,
     "metadata": {},
     "output_type": "execute_result"
    },
    {
     "data": {
      "image/png": "[encoded data removed]",
      "text/plain": [
       "<Figure size 432x288 with 1 Axes>"
      ]
     },
     "metadata": {
      "needs_background": "light"
     },
     "output_type": "display_data"
    }
   ],
   "source": [
    "#Plot between the sex of the passengers and survival\n",
    "pd.crosstab(df2.Sex,df2.Survived).plot(kind='bar')\n",
    "plt.title('Plot between gender and survivers')\n",
    "plt.xlabel('Sex')\n",
    "plt.ylabel('Survived')"
   ]
  },
  {
   "cell_type": "markdown",
   "id": "b78a21e9",
   "metadata": {},
   "source": [
    "From the above plot we can observe that almost all female passengers were survived While almost all male paasengers were not survived."
   ]
  },
  {
   "cell_type": "code",
   "execution_count": 22,
   "id": "168263fd",
   "metadata": {},
   "outputs": [
    {
     "data": {
      "text/plain": [
       "<matplotlib.legend.Legend at 0x17560cd58b0>"
      ]
     },
     "execution_count": 22,
     "metadata": {},
     "output_type": "execute_result"
    },
    {
     "data": {
      "image/png": "[encoded data removed]",
      "text/plain": [
       "<Figure size 720x504 with 1 Axes>"
      ]
     },
     "metadata": {
      "needs_background": "light"
     },
     "output_type": "display_data"
    }
   ],
   "source": [
    "#histogram between the age of the passengers and survival\n",
    "fig = plt.figure(figsize =(10, 7))\n",
    "plt.hist(x = [df2[df2['Survived']==1]['Age'], df2[df2['Survived']==0]['Age']],stacked=True, color = ['b','g'],label = ['Survived','Not survived'])\n",
    "plt.title('Age Histogram with Survival')\n",
    "plt.xlabel('Age')\n",
    "plt.ylabel('No of passengers')\n",
    "plt.legend()"
   ]
  },
  {
   "cell_type": "markdown",
   "id": "29c54ed1",
   "metadata": {},
   "source": [
    "From the above plot we can observe that most passengers who were not survived are form the age group 25-30 since many of the passengers were from the same age group ."
   ]
  },
  {
   "cell_type": "code",
   "execution_count": 23,
   "id": "ac08df17",
   "metadata": {},
   "outputs": [
    {
     "data": {
      "text/plain": [
       "<matplotlib.legend.Legend at 0x17560d77700>"
      ]
     },
     "execution_count": 23,
     "metadata": {},
     "output_type": "execute_result"
    },
    {
     "data": {
      "image/png": "[encoded data removed]",
      "text/plain": [
       "<Figure size 720x504 with 1 Axes>"
      ]
     },
     "metadata": {
      "needs_background": "light"
     },
     "output_type": "display_data"
    }
   ],
   "source": [
    "#histogram between the fare and survival\n",
    "fig = plt.figure(figsize =(10, 7))\n",
    "plt.hist(x = [df2[df2['Survived']==1]['Fare'], df2[df2['Survived']==0]['Fare']], stacked=True, color = ['b','g'],label = ['Survived','Not survived'])\n",
    "plt.title('Fare Histogram with Survival')\n",
    "plt.xlabel('Fare')\n",
    "plt.ylabel('No of passengers')\n",
    "plt.legend()"
   ]
  },
  {
   "cell_type": "markdown",
   "id": "b41c9ad9",
   "metadata": {},
   "source": [
    "From the above plot we can observe that most passengers who were not survived were the passengers who paid less fares as compared to the ones who paid high fares."
   ]
  },
  {
   "cell_type": "markdown",
   "id": "ff2d6265",
   "metadata": {},
   "source": [
    "### BUILDING A LOGISTIC CLASSIFICATION MODEL"
   ]
  },
  {
   "cell_type": "code",
   "execution_count": 24,
   "id": "ca89f914",
   "metadata": {},
   "outputs": [],
   "source": [
    "#Defining x(features) and y(target variable)\n",
    "X = df2.loc[:, df2.columns != 'Survived']\n",
    "y = df2.loc[:, df2.columns == 'Survived']"
   ]
  },
  {
   "cell_type": "code",
   "execution_count": 25,
   "id": "521341b6",
   "metadata": {},
   "outputs": [],
   "source": [
    "#splitting the dataset into train and test datasets\n",
    "from sklearn.model_selection import train_test_split\n",
    "X_train, X_test, y_train, y_test = train_test_split(X, y, test_size=0.3, random_state=0)"
   ]
  },
  {
   "cell_type": "code",
   "execution_count": 26,
   "id": "8011eeae",
   "metadata": {},
   "outputs": [
    {
     "data": {
      "text/html": [
       "<style>#sk-container-id-1 {color: black;}#sk-container-id-1 pre{padding: 0;}#sk-container-id-1 div.sk-toggleable {background-color: white;}#sk-container-id-1 label.sk-toggleable__label {cursor: pointer;display: block;width: 100%;margin-bottom: 0;padding: 0.3em;box-sizing: border-box;text-align: center;}#sk-container-id-1 label.sk-toggleable__label-arrow:before {content: \"▸\";float: left;margin-right: 0.25em;color: #696969;}#sk-container-id-1 label.sk-toggleable__label-arrow:hover:before {color: black;}#sk-container-id-1 div.sk-estimator:hover label.sk-toggleable__label-arrow:before {color: black;}#sk-container-id-1 div.sk-toggleable__content {max-height: 0;max-width: 0;overflow: hidden;text-align: left;background-color: #f0f8ff;}#sk-container-id-1 div.sk-toggleable__content pre {margin: 0.2em;color: black;border-radius: 0.25em;background-color: #f0f8ff;}#sk-container-id-1 input.sk-toggleable__control:checked~div.sk-toggleable__content {max-height: 200px;max-width: 100%;overflow: auto;}#sk-container-id-1 input.sk-toggleable__control:checked~label.sk-toggleable__label-arrow:before {content: \"▾\";}#sk-container-id-1 div.sk-estimator input.sk-toggleable__control:checked~label.sk-toggleable__label {background-color: #d4ebff;}#sk-container-id-1 div.sk-label input.sk-toggleable__control:checked~label.sk-toggleable__label {background-color: #d4ebff;}#sk-container-id-1 input.sk-hidden--visually {border: 0;clip: rect(1px 1px 1px 1px);clip: rect(1px, 1px, 1px, 1px);height: 1px;margin: -1px;overflow: hidden;padding: 0;position: absolute;width: 1px;}#sk-container-id-1 div.sk-estimator {font-family: monospace;background-color: #f0f8ff;border: 1px dotted black;border-radius: 0.25em;box-sizing: border-box;margin-bottom: 0.5em;}#sk-container-id-1 div.sk-estimator:hover {background-color: #d4ebff;}#sk-container-id-1 div.sk-parallel-item::after {content: \"\";width: 100%;border-bottom: 1px solid gray;flex-grow: 1;}#sk-container-id-1 div.sk-label:hover label.sk-toggleable__label {background-color: #d4ebff;}#sk-container-id-1 div.sk-serial::before {content: \"\";position: absolute;border-left: 1px solid gray;box-sizing: border-box;top: 0;bottom: 0;left: 50%;z-index: 0;}#sk-container-id-1 div.sk-serial {display: flex;flex-direction: column;align-items: center;background-color: white;padding-right: 0.2em;padding-left: 0.2em;position: relative;}#sk-container-id-1 div.sk-item {position: relative;z-index: 1;}#sk-container-id-1 div.sk-parallel {display: flex;align-items: stretch;justify-content: center;background-color: white;position: relative;}#sk-container-id-1 div.sk-item::before, #sk-container-id-1 div.sk-parallel-item::before {content: \"\";position: absolute;border-left: 1px solid gray;box-sizing: border-box;top: 0;bottom: 0;left: 50%;z-index: -1;}#sk-container-id-1 div.sk-parallel-item {display: flex;flex-direction: column;z-index: 1;position: relative;background-color: white;}#sk-container-id-1 div.sk-parallel-item:first-child::after {align-self: flex-end;width: 50%;}#sk-container-id-1 div.sk-parallel-item:last-child::after {align-self: flex-start;width: 50%;}#sk-container-id-1 div.sk-parallel-item:only-child::after {width: 0;}#sk-container-id-1 div.sk-dashed-wrapped {border: 1px dashed gray;margin: 0 0.4em 0.5em 0.4em;box-sizing: border-box;padding-bottom: 0.4em;background-color: white;}#sk-container-id-1 div.sk-label label {font-family: monospace;font-weight: bold;display: inline-block;line-height: 1.2em;}#sk-container-id-1 div.sk-label-container {text-align: center;}#sk-container-id-1 div.sk-container {/* jupyter's `normalize.less` sets `[hidden] { display: none; }` but bootstrap.min.css set `[hidden] { display: none !important; }` so we also need the `!important` here to be able to override the default hidden behavior on the sphinx rendered scikit-learn.org. See: https://github.com/scikit-learn/scikit-learn/issues/21755 */display: inline-block !important;position: relative;}#sk-container-id-1 div.sk-text-repr-fallback {display: none;}</style><div id=\"sk-container-id-1\" class=\"sk-top-container\"><div class=\"sk-text-repr-fallback\"><pre>LogisticRegression(max_iter=20000)</pre><b>In a Jupyter environment, please rerun this cell to show the HTML representation or trust the notebook. <br />On GitHub, the HTML representation is unable to render, please try loading this page with nbviewer.org.</b></div><div class=\"sk-container\" hidden><div class=\"sk-item\"><div class=\"sk-estimator sk-toggleable\"><input class=\"sk-toggleable__control sk-hidden--visually\" id=\"sk-estimator-id-1\" type=\"checkbox\" checked><label for=\"sk-estimator-id-1\" class=\"sk-toggleable__label sk-toggleable__label-arrow\">LogisticRegression</label><div class=\"sk-toggleable__content\"><pre>LogisticRegression(max_iter=20000)</pre></div></div></div></div></div>"
      ],
      "text/plain": [
       "LogisticRegression(max_iter=20000)"
      ]
     },
     "execution_count": 26,
     "metadata": {},
     "output_type": "execute_result"
    }
   ],
   "source": [
    "#fitting a logistic regression model\n",
    "y_train=y_train.squeeze()\n",
    "from sklearn.linear_model import LogisticRegression\n",
    "from sklearn import metrics\n",
    "logreg = LogisticRegression(max_iter = 20000)\n",
    "logreg.fit(X_train, y_train)"
   ]
  },
  {
   "cell_type": "markdown",
   "id": "585ecf29",
   "metadata": {},
   "source": [
    "### PREDICTION AND CALCULATING THE ACCURACY MEASURES"
   ]
  },
  {
   "cell_type": "code",
   "execution_count": 27,
   "id": "ec54fc05",
   "metadata": {},
   "outputs": [
    {
     "data": {
      "text/plain": [
       "100.0"
      ]
     },
     "execution_count": 27,
     "metadata": {},
     "output_type": "execute_result"
    }
   ],
   "source": [
    "#Accuracy score\n",
    "y_pred = logreg.predict(X_test)\n",
    "from sklearn.metrics import accuracy_score\n",
    "score=accuracy_score(y_test,y_pred)\n",
    "score*100"
   ]
  },
  {
   "cell_type": "markdown",
   "id": "eaa802cf",
   "metadata": {},
   "source": [
    "Since the accuracy measure is 1, we can say that the model is a perfect fit."
   ]
  },
  {
   "cell_type": "code",
   "execution_count": 28,
   "id": "eb4d3934",
   "metadata": {},
   "outputs": [
    {
     "name": "stdout",
     "output_type": "stream",
     "text": [
      "[[71  0]\n",
      " [ 0 55]]\n"
     ]
    }
   ],
   "source": [
    "#confusion matrix\n",
    "from sklearn.metrics import confusion_matrix\n",
    "confusion_matrix = confusion_matrix(y_test, y_pred)\n",
    "print(confusion_matrix)"
   ]
  },
  {
   "cell_type": "markdown",
   "id": "2eff5f8c",
   "metadata": {},
   "source": [
    "Confusion matrix explains that 71 0's are classified as 0's,55 1's are classified as 1's. That is 71+55 are the number of correct predictions. There are zero wrong classifications."
   ]
  },
  {
   "cell_type": "code",
   "execution_count": 29,
   "id": "c9615da2",
   "metadata": {},
   "outputs": [
    {
     "name": "stdout",
     "output_type": "stream",
     "text": [
      "              precision    recall  f1-score   support\n",
      "\n",
      "           0       1.00      1.00      1.00        71\n",
      "           1       1.00      1.00      1.00        55\n",
      "\n",
      "    accuracy                           1.00       126\n",
      "   macro avg       1.00      1.00      1.00       126\n",
      "weighted avg       1.00      1.00      1.00       126\n",
      "\n"
     ]
    }
   ],
   "source": [
    "#Classification report\n",
    "from sklearn.metrics import classification_report\n",
    "print(classification_report(y_test, y_pred))"
   ]
  },
  {
   "cell_type": "markdown",
   "id": "3c9b071c",
   "metadata": {},
   "source": [
    "The above report prints precision, recall, F-beta score and support.\n",
    "\n",
    "Precision is the ratio of TP to the sum of TP and FP (1 is best and O is worst).It measures the ability of a classifier not to label an obervation as positive if its negative.Here we can observe that the precision of all classes are 1 , hence we can say it is a perfecr fit.\n",
    "\n",
    "Recall is the ratio of TP to the sum of TP and FN (1 is best and O is worst).It measures the ability of a classifier to lablel all postive observations.Here we can observe that the recall of all classes except 0 are more than 1 , hence we can say it is a perfect fit.\n",
    "\n",
    "The F-measure is calculated as the harmonic mean of precision and recall, giving each the same weighting. It allows a model to be evaluated taking both the precision and recall into account using a single score. Here the average of the f1-score is 1 . Hence we can say the fitted model is a perfect one for prediction."
   ]
  },
  {
   "cell_type": "code",
   "execution_count": null,
   "id": "12665d1f",
   "metadata": {},
   "outputs": [],
   "source": []
  }
 ],
 "metadata": {
  "kernelspec": {
   "display_name": "Python 3 (ipykernel)",
   "language": "python",
   "name": "python3"
  },
  "language_info": {
   "codemirror_mode": {
    "name": "ipython",
    "version": 3
   },
   "file_extension": ".py",
   "mimetype": "text/x-python",
   "name": "python",
   "nbconvert_exporter": "python",
   "pygments_lexer": "ipython3",
   "version": "3.9.7"
  }
 },
 "nbformat": 4,
 "nbformat_minor": 5
}
