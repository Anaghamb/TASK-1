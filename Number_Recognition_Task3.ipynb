{
  "nbformat": 4,
  "nbformat_minor": 0,
  "metadata": {
    "colab": {
      "provenance": [],
      "authorship_tag": "ABX9TyNvA6NrwFQkZAapklnd3dMe",
      "include_colab_link": true
    },
    "kernelspec": {
      "name": "python3",
      "display_name": "Python 3"
    },
    "language_info": {
      "name": "python"
    }
  },
  "cells": [
    {
      "cell_type": "markdown",
      "metadata": {
        "id": "view-in-github",
        "colab_type": "text"
      },
      "source": [
        "<a href=\"https://colab.research.google.com/github/Anaghamb/TASK-1/blob/main/Number_Recognition_Task3.ipynb\" target=\"_parent\"><img src=\"https://colab.research.google.com/assets/colab-badge.svg\" alt=\"Open In Colab\"/></a>"
      ]
    },
    {
      "cell_type": "markdown",
      "source": [
        "# BUILDING A CNN NUMBER RECOGNITION MODEL ON MNIST DATA\n",
        "###### ANAGHA M BASHEER 2148120\n",
        "\n"
      ],
      "metadata": {
        "id": "nnZmcl22bO_s"
      }
    },
    {
      "cell_type": "markdown",
      "source": [
        "# OBJECTIVE:-\n",
        "\n",
        "To build a CNN model IMAGE PREDICTOR with the rectified linear unit on MNIST dataset.\n",
        "\n",
        "\n",
        "# DATA DESCRIPTION:-\n",
        "\n",
        "The MNIST database (Modified National Institute of Standards and Technology database) is a large database of handwritten digits that is commonly used for training various image processing systems. The database is also widely used for training and testing in the field of machine learning.\n"
      ],
      "metadata": {
        "id": "3vyxhpLrbpXn"
      }
    },
    {
      "cell_type": "markdown",
      "source": [
        "### IMPORTING THE REQUIRED PACKAGES"
      ],
      "metadata": {
        "id": "ATfup3GLcf2w"
      }
    },
    {
      "cell_type": "code",
      "source": [
        "#IMPORTING REQUIRED PACKAGES\n",
        "import numpy as np\n",
        "from tensorflow import keras\n",
        "from tensorflow.keras import layers"
      ],
      "metadata": {
        "id": "vwfcjNldcy8r"
      },
      "execution_count": null,
      "outputs": []
    },
    {
      "cell_type": "markdown",
      "source": [
        "### LOADING THE DATASET AND SPLITTING THE DATASET INTO TRAIN AND TEST DATA"
      ],
      "metadata": {
        "id": "OoF4SdRzc7zm"
      }
    },
    {
      "cell_type": "code",
      "execution_count": null,
      "metadata": {
        "colab": {
          "base_uri": "https://localhost:8080/"
        },
        "id": "WEiSoU1VW1wD",
        "outputId": "585a1159-dda8-435a-8208-edaae3156619"
      },
      "outputs": [
        {
          "output_type": "stream",
          "name": "stdout",
          "text": [
            "x_train shape: (60000, 28, 28, 1)\n",
            "60000 train samples\n",
            "10000 test samples\n"
          ]
        }
      ],
      "source": [
        "#define number of classes and size of the input images\n",
        "num_classes = 10\n",
        "input_shape = (28, 28, 1) #1 is for black and white image\n",
        "\n",
        "# Load the data and split it between train and test sets\n",
        "(x_train, y_train), (x_test, y_test) = keras.datasets.mnist.load_data()\n",
        "\n",
        "# Scale images to the [0, 1] range\n",
        "x_train = x_train.astype(\"float32\") / 255\n",
        "x_test = x_test.astype(\"float32\") / 255\n",
        "# Make sure images have shape (28, 28, 1)\n",
        "x_train = np.expand_dims(x_train, -1)\n",
        "x_test = np.expand_dims(x_test, -1)\n",
        "print(\"x_train shape:\", x_train.shape)\n",
        "print(x_train.shape[0], \"train samples\")\n",
        "print(x_test.shape[0], \"test samples\")\n",
        "\n",
        "\n",
        "# convert class vectors to binary class matrices\n",
        "y_train = keras.utils.to_categorical(y_train, num_classes)\n",
        "y_test = keras.utils.to_categorical(y_test, num_classes)"
      ]
    },
    {
      "cell_type": "markdown",
      "source": [
        "### BUILDING THE CNN MODEL"
      ],
      "metadata": {
        "id": "sJx-cw6adl0D"
      }
    },
    {
      "cell_type": "code",
      "source": [
        "cnn_model = keras.Sequential(\n",
        "    [\n",
        "        keras.Input(shape=input_shape),\n",
        "        layers.Conv2D(32, kernel_size=(3, 3), activation=\"relu\"),\n",
        "        layers.MaxPooling2D(pool_size=(2, 2)),\n",
        "        layers.Conv2D(64, kernel_size=(3, 3), activation=\"relu\"),\n",
        "        layers.MaxPooling2D(pool_size=(2, 2)),\n",
        "        layers.Flatten(),\n",
        "        layers.Dropout(0.5),\n",
        "        layers.Dense(num_classes, activation=\"softmax\"),\n",
        "    ]\n",
        ")\n",
        "\n",
        "cnn_model.summary()\n",
        "\n",
        "batch_size = 128\n",
        "epochs = 2\n",
        "\n",
        "cnn_model.compile(loss=\"categorical_crossentropy\", optimizer=\"adam\", metrics=[\"accuracy\"])\n",
        "\n",
        "cnn_model.fit(x_train, y_train, batch_size=batch_size, epochs=epochs, validation_split=0.1)\n",
        "\n",
        "\n",
        "score = cnn_model.evaluate(x_test, y_test, verbose=0)\n",
        "print(\"Test loss:\", score[0])\n",
        "print(\"Test accuracy:\", score[1])"
      ],
      "metadata": {
        "colab": {
          "base_uri": "https://localhost:8080/"
        },
        "id": "b63e1ff4ddSe",
        "outputId": "5d420dab-ff32-4250-dbe3-9546a84e948c"
      },
      "execution_count": null,
      "outputs": [
        {
          "output_type": "stream",
          "name": "stdout",
          "text": [
            "Model: \"sequential\"\n",
            "_________________________________________________________________\n",
            " Layer (type)                Output Shape              Param #   \n",
            "=================================================================\n",
            " conv2d (Conv2D)             (None, 26, 26, 32)        320       \n",
            "                                                                 \n",
            " max_pooling2d (MaxPooling2D  (None, 13, 13, 32)       0         \n",
            " )                                                               \n",
            "                                                                 \n",
            " conv2d_1 (Conv2D)           (None, 11, 11, 64)        18496     \n",
            "                                                                 \n",
            " max_pooling2d_1 (MaxPooling  (None, 5, 5, 64)         0         \n",
            " 2D)                                                             \n",
            "                                                                 \n",
            " flatten (Flatten)           (None, 1600)              0         \n",
            "                                                                 \n",
            " dropout (Dropout)           (None, 1600)              0         \n",
            "                                                                 \n",
            " dense (Dense)               (None, 10)                16010     \n",
            "                                                                 \n",
            "=================================================================\n",
            "Total params: 34,826\n",
            "Trainable params: 34,826\n",
            "Non-trainable params: 0\n",
            "_________________________________________________________________\n",
            "Epoch 1/2\n",
            "422/422 [==============================] - 66s 154ms/step - loss: 0.3728 - accuracy: 0.8888 - val_loss: 0.0954 - val_accuracy: 0.9742\n",
            "Epoch 2/2\n",
            "422/422 [==============================] - 65s 154ms/step - loss: 0.1185 - accuracy: 0.9637 - val_loss: 0.0595 - val_accuracy: 0.9833\n",
            "Test loss: 0.05794212594628334\n",
            "Test accuracy: 0.9819999933242798\n"
          ]
        }
      ]
    },
    {
      "cell_type": "markdown",
      "source": [
        "### PREDICTION BASED ON THE TEST DATA"
      ],
      "metadata": {
        "id": "5e_YD9H6dwje"
      }
    },
    {
      "cell_type": "code",
      "source": [
        "#TO PREDICT THE 120TH IMAGE IN THE TEST DATASET\n",
        "\n",
        "import pylab as plt\n",
        "plt.imshow(x_test[120:121].reshape(28,28),cmap='gray')\n",
        "plt.show()\n",
        "\n",
        "import numpy as np\n",
        "prediction=cnn_model.predict(x_test[120:121])\n",
        "\n",
        "thresholded=(prediction>0.2)*1\n",
        "print(thresholded[0])\n",
        "print('Predicted digit',np.where(thresholded==1)[1][0])"
      ],
      "metadata": {
        "colab": {
          "base_uri": "https://localhost:8080/",
          "height": 482
        },
        "id": "9ULwerkHYNWJ",
        "outputId": "7a048ccb-69e2-48e0-9152-f90ad1a662f9"
      },
      "execution_count": null,
      "outputs": [
        {
          "output_type": "display_data",
          "data": {
            "text/plain": [
              "<Figure size 640x480 with 1 Axes>"
            ],
            "image/png": "[encoded data removed]"
          },
          "metadata": {}
        },
        {
          "output_type": "stream",
          "name": "stdout",
          "text": [
            "1/1 [==============================] - 0s 151ms/step\n",
            "[0 0 0 0 0 1 0 0 0 0]\n",
            "Predicted digit 5\n"
          ]
        }
      ]
    },
    {
      "cell_type": "markdown",
      "source": [
        "# INTERPRETATION:-\n",
        "The MNIST dataset has been splitted in to train and test data and sacled the images into [0,1] range. Then the CNN model has been developed to predict the number in the image using the train dataset. After the developing the model, the model accuracy has been checked using the test adat and obtained as 0.98 and also the 120th image has been predicted correctly as 5 by the developed CNN model."
      ],
      "metadata": {
        "id": "roqNT3zwfwSE"
      }
    }
  ]
}